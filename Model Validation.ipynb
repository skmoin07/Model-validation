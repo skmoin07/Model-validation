{
 "cells": [
  {
   "cell_type": "markdown",
   "id": "d4d5c4ba",
   "metadata": {},
   "source": [
    "# Train,Test and split"
   ]
  },
  {
   "cell_type": "markdown",
   "id": "721a04a7",
   "metadata": {},
   "source": [
    "# Kfold cross validation"
   ]
  },
  {
   "cell_type": "code",
   "execution_count": 1,
   "id": "2a53b809",
   "metadata": {},
   "outputs": [],
   "source": [
    "from pandas import read_csv\n",
    "from sklearn.model_selection import cross_val_score\n",
    "from sklearn.model_selection import KFold\n",
    "from sklearn.linear_model import LogisticRegression"
   ]
  },
  {
   "cell_type": "code",
   "execution_count": 3,
   "id": "ea05345d",
   "metadata": {},
   "outputs": [],
   "source": [
    "filename='pima.csv'\n",
    "names=['preg','plas','pres','skin','test','mass','pedi','age','class']\n",
    "dataframe=read_csv(filename,names=names)\n",
    "array=dataframe.values\n",
    "X=array[:,0:8]\n",
    "Y=array[:,8]\n",
    "num_folds=10\n",
    "seed=7"
   ]
  },
  {
   "cell_type": "code",
   "execution_count": 5,
   "id": "803605d3",
   "metadata": {},
   "outputs": [],
   "source": [
    "kfold=KFold(n_splits=num_folds)"
   ]
  },
  {
   "cell_type": "code",
   "execution_count": 6,
   "id": "89883848",
   "metadata": {},
   "outputs": [],
   "source": [
    "model=LogisticRegression(max_iter=400)\n",
    "result=cross_val_score(model,X,Y,cv=kfold)"
   ]
  },
  {
   "cell_type": "code",
   "execution_count": 7,
   "id": "ea670473",
   "metadata": {},
   "outputs": [
    {
     "data": {
      "text/plain": [
       "77.60423786739577"
      ]
     },
     "execution_count": 7,
     "metadata": {},
     "output_type": "execute_result"
    }
   ],
   "source": [
    "result.mean()*100"
   ]
  },
  {
   "cell_type": "markdown",
   "id": "522e7015",
   "metadata": {},
   "source": [
    "# Leave Out"
   ]
  },
  {
   "cell_type": "code",
   "execution_count": 8,
   "id": "f27b3c81",
   "metadata": {},
   "outputs": [],
   "source": [
    "from sklearn.model_selection import LeaveOneOut\n"
   ]
  },
  {
   "cell_type": "code",
   "execution_count": 9,
   "id": "f93f76e7",
   "metadata": {},
   "outputs": [],
   "source": [
    "loocv=LeaveOneOut()\n",
    "model=LogisticRegression(max_iter=300)\n",
    "result=cross_val_score(model,X,Y,cv=loocv)"
   ]
  },
  {
   "cell_type": "code",
   "execution_count": 12,
   "id": "d0567bf4",
   "metadata": {},
   "outputs": [
    {
     "data": {
      "text/plain": [
       "77.60416666666666"
      ]
     },
     "execution_count": 12,
     "metadata": {},
     "output_type": "execute_result"
    }
   ],
   "source": [
    "result.mean()*100\n"
   ]
  },
  {
   "cell_type": "code",
   "execution_count": 13,
   "id": "58261e87",
   "metadata": {},
   "outputs": [
    {
     "data": {
      "text/plain": [
       "41.68944689773287"
      ]
     },
     "execution_count": 13,
     "metadata": {},
     "output_type": "execute_result"
    }
   ],
   "source": [
    "result.std()*100"
   ]
  },
  {
   "cell_type": "code",
   "execution_count": null,
   "id": "e6094da9",
   "metadata": {},
   "outputs": [],
   "source": []
  }
 ],
 "metadata": {
  "kernelspec": {
   "display_name": "Python 3",
   "language": "python",
   "name": "python3"
  },
  "language_info": {
   "codemirror_mode": {
    "name": "ipython",
    "version": 3
   },
   "file_extension": ".py",
   "mimetype": "text/x-python",
   "name": "python",
   "nbconvert_exporter": "python",
   "pygments_lexer": "ipython3",
   "version": "3.8.8"
  }
 },
 "nbformat": 4,
 "nbformat_minor": 5
}
